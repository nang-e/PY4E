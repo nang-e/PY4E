{
 "cells": [
  {
   "cell_type": "code",
   "execution_count": 2,
   "id": "2740254a",
   "metadata": {
    "ExecuteTime": {
     "end_time": "2022-02-03T13:11:16.957801Z",
     "start_time": "2022-02-03T13:11:16.953311Z"
    }
   },
   "outputs": [
    {
     "name": "stdout",
     "output_type": "stream",
     "text": [
      "smaller\n"
     ]
    }
   ],
   "source": [
    "# Conditional Steps\n",
    "x = 5\n",
    "if x < 10:\n",
    "    print('smaller')\n",
    "else:\n",
    "    print('bigger')"
   ]
  },
  {
   "cell_type": "code",
   "execution_count": 3,
   "id": "733eaf64",
   "metadata": {
    "ExecuteTime": {
     "end_time": "2022-02-03T13:13:59.091542Z",
     "start_time": "2022-02-03T13:13:59.085927Z"
    }
   },
   "outputs": [
    {
     "name": "stdout",
     "output_type": "stream",
     "text": [
      "More than one\n",
      "Less than 100\n",
      "All Done\n"
     ]
    }
   ],
   "source": [
    "# Nested Decisions\n",
    "x = 42\n",
    "if x > 1:\n",
    "    print('More than one')\n",
    "    if x < 100:\n",
    "        print('Less than 100')\n",
    "print('All Done')"
   ]
  },
  {
   "cell_type": "code",
   "execution_count": 4,
   "id": "4e45b529",
   "metadata": {
    "ExecuteTime": {
     "end_time": "2022-02-03T13:14:48.528752Z",
     "start_time": "2022-02-03T13:14:48.524042Z"
    }
   },
   "outputs": [
    {
     "name": "stdout",
     "output_type": "stream",
     "text": [
      "Bigger\n",
      "All Done\n"
     ]
    }
   ],
   "source": [
    "# Two-way Decisions\n",
    "x = 4\n",
    "\n",
    "if x > 2:\n",
    "    print('Bigger')\n",
    "else:\n",
    "    print('Not bigger')\n",
    "    \n",
    "print('All Done')"
   ]
  },
  {
   "cell_type": "code",
   "execution_count": 9,
   "id": "17e09c28",
   "metadata": {
    "ExecuteTime": {
     "end_time": "2022-02-03T13:17:35.053653Z",
     "start_time": "2022-02-03T13:17:34.400206Z"
    }
   },
   "outputs": [
    {
     "name": "stdout",
     "output_type": "stream",
     "text": [
      "5\n",
      "Medium\n",
      "All Done\n"
     ]
    }
   ],
   "source": [
    "# Multi-way\n",
    "## if-elif-elseb\n",
    "x = int(input())\n",
    "\n",
    "if x < 2:\n",
    "    print('small')\n",
    "elif x < 10:\n",
    "    print('Medium')\n",
    "else:\n",
    "    print('LARGE')\n",
    "    \n",
    "print('All Done')"
   ]
  },
  {
   "cell_type": "code",
   "execution_count": 12,
   "id": "1018f126",
   "metadata": {
    "ExecuteTime": {
     "end_time": "2022-02-03T13:26:36.696253Z",
     "start_time": "2022-02-03T13:26:36.691413Z"
    }
   },
   "outputs": [
    {
     "name": "stdout",
     "output_type": "stream",
     "text": [
      "error\n",
      "str ny\n"
     ]
    }
   ],
   "source": [
    "# try-except\n",
    "## X overuse\n",
    "a = 'ny'\n",
    "try:\n",
    "    int_a = int(a)\n",
    "except:\n",
    "    print('error')\n",
    "    print('str', a)"
   ]
  },
  {
   "cell_type": "code",
   "execution_count": 15,
   "id": "5d50bd14",
   "metadata": {
    "ExecuteTime": {
     "end_time": "2022-02-03T13:29:00.853982Z",
     "start_time": "2022-02-03T13:29:00.849003Z"
    }
   },
   "outputs": [
    {
     "name": "stdout",
     "output_type": "stream",
     "text": [
      "Hello\n",
      "Done -1\n"
     ]
    }
   ],
   "source": [
    "# try-except 2\n",
    "astr = 'Bob'\n",
    "try:\n",
    "    print('Hello')\n",
    "    # 여기서 오류가 생기므로 여기부터 except로 넘어감\n",
    "    ## 따라서 여기에 try-except를 쓰는 게 맞음\n",
    "    istr = int(astr) \n",
    "    print('There')\n",
    "except:\n",
    "    istr = -1\n",
    "\n",
    "print('Done',istr)"
   ]
  },
  {
   "cell_type": "code",
   "execution_count": 16,
   "id": "9913edae",
   "metadata": {
    "ExecuteTime": {
     "end_time": "2022-02-03T13:31:01.641691Z",
     "start_time": "2022-02-03T13:30:59.035473Z"
    }
   },
   "outputs": [
    {
     "name": "stdout",
     "output_type": "stream",
     "text": [
      "num: 13119\n",
      "good\n"
     ]
    }
   ],
   "source": [
    "# Sample try-except\n",
    "rawstr = input('num: ')\n",
    "try:\n",
    "    ival = int(rawstr)\n",
    "except:\n",
    "    ival = -1\n",
    "    \n",
    "if ival > 0:\n",
    "    print('good')\n",
    "else: # elif ival == -1:\n",
    "    print('not a num')"
   ]
  },
  {
   "cell_type": "code",
   "execution_count": null,
   "id": "3766c5b1",
   "metadata": {},
   "outputs": [],
   "source": []
  },
  {
   "cell_type": "markdown",
   "id": "c435187b",
   "metadata": {},
   "source": [
    "## Exercise\n",
    "### 초과근무 급여 계산\n",
    "Exercise 1: Rewrite your pay computation to give the employee 1.5 times the hourly rate for hours worked above 40 hours. <br>\n",
    "Enter Hours: 45  \n",
    "Enter Rate: 10  \n",
    "Pay: 475.0  "
   ]
  },
  {
   "cell_type": "code",
   "execution_count": 21,
   "id": "38daccf4",
   "metadata": {
    "ExecuteTime": {
     "end_time": "2022-02-03T13:41:37.871477Z",
     "start_time": "2022-02-03T13:41:36.927157Z"
    }
   },
   "outputs": [
    {
     "name": "stdout",
     "output_type": "stream",
     "text": [
      "Enter Working hours: 50\n",
      "Enter Rate: 10\n",
      "550.0\n"
     ]
    }
   ],
   "source": [
    "hr = float(input('Enter Working hours: '))\n",
    "rate = float(input('Enter Rate: '))\n",
    "if hr > 40:\n",
    "    hr_exceed = hr - 40\n",
    "    pay = 40*rate + hr_exceed*1.5*rate\n",
    "else:\n",
    "    pay = hr*rate\n",
    "\n",
    "print(pay)"
   ]
  },
  {
   "cell_type": "markdown",
   "id": "c6451959",
   "metadata": {},
   "source": [
    "### 초과근무 급여 계산 - try-except 활용 \n",
    "Exercise 2: Rewrite your pay program using try and except so that your program handles non-numeric input gracefully by printing a message and exiting the program. The following shows two executions of the program:  \n",
    "<hr>\n",
    "Enter Hours: 20 <br>\n",
    "Enter Rate: nine  <br>\n",
    "Error, please enter numeric input  <BR>\n",
    "<hr>\n",
    "Enter Hours: forty  <br>\n",
    "Error, please enter numeric input\n"
   ]
  },
  {
   "cell_type": "code",
   "execution_count": 26,
   "id": "81a95bde",
   "metadata": {
    "ExecuteTime": {
     "end_time": "2022-02-03T13:54:12.667072Z",
     "start_time": "2022-02-03T13:54:11.524992Z"
    }
   },
   "outputs": [
    {
     "name": "stdout",
     "output_type": "stream",
     "text": [
      "Enter Working hours: nune\n",
      "Error, please enter numeric input\n"
     ]
    }
   ],
   "source": [
    "try:\n",
    "    hr = float(input('Enter Working hours: '))\n",
    "    rate = float(input('Enter Rate: '))\n",
    "    if hr > 40:\n",
    "        hr_exceed = hr - 40\n",
    "        pay = 40*rate + hr_exceed*1.5*rate\n",
    "    else:\n",
    "        pay = hr*rate\n",
    "\n",
    "    print(pay)\n",
    "except:\n",
    "    print('Error, please enter numeric input')\n",
    "    quit()"
   ]
  },
  {
   "cell_type": "code",
   "execution_count": 1,
   "id": "3e877bef",
   "metadata": {
    "ExecuteTime": {
     "end_time": "2022-02-03T13:54:59.521694Z",
     "start_time": "2022-02-03T13:54:58.614878Z"
    }
   },
   "outputs": [
    {
     "name": "stdout",
     "output_type": "stream",
     "text": [
      "Enter Working hours: ead\n",
      "Error, please enter numeric input\n"
     ]
    },
    {
     "ename": "NameError",
     "evalue": "name 'hr' is not defined",
     "output_type": "error",
     "traceback": [
      "\u001b[0;31m---------------------------------------------------------------------------\u001b[0m",
      "\u001b[0;31mNameError\u001b[0m                                 Traceback (most recent call last)",
      "\u001b[0;32m/var/folders/dr/6msfb1qj7w9cvw_lz86pmzq40000gn/T/ipykernel_9994/110741737.py\u001b[0m in \u001b[0;36m<module>\u001b[0;34m\u001b[0m\n\u001b[1;32m      7\u001b[0m     \u001b[0mquit\u001b[0m\u001b[0;34m(\u001b[0m\u001b[0;34m)\u001b[0m\u001b[0;34m\u001b[0m\u001b[0;34m\u001b[0m\u001b[0m\n\u001b[1;32m      8\u001b[0m \u001b[0;34m\u001b[0m\u001b[0m\n\u001b[0;32m----> 9\u001b[0;31m \u001b[0;32mif\u001b[0m \u001b[0mhr\u001b[0m \u001b[0;34m>\u001b[0m \u001b[0;36m40\u001b[0m\u001b[0;34m:\u001b[0m\u001b[0;34m\u001b[0m\u001b[0;34m\u001b[0m\u001b[0m\n\u001b[0m\u001b[1;32m     10\u001b[0m     \u001b[0mhr_exceed\u001b[0m \u001b[0;34m=\u001b[0m \u001b[0mhr\u001b[0m \u001b[0;34m-\u001b[0m \u001b[0;36m40\u001b[0m\u001b[0;34m\u001b[0m\u001b[0;34m\u001b[0m\u001b[0m\n\u001b[1;32m     11\u001b[0m     \u001b[0mpay\u001b[0m \u001b[0;34m=\u001b[0m \u001b[0;36m40\u001b[0m\u001b[0;34m*\u001b[0m\u001b[0mrate\u001b[0m \u001b[0;34m+\u001b[0m \u001b[0mhr_exceed\u001b[0m\u001b[0;34m*\u001b[0m\u001b[0;36m1.5\u001b[0m\u001b[0;34m*\u001b[0m\u001b[0mrate\u001b[0m\u001b[0;34m\u001b[0m\u001b[0;34m\u001b[0m\u001b[0m\n",
      "\u001b[0;31mNameError\u001b[0m: name 'hr' is not defined"
     ]
    }
   ],
   "source": [
    "# 모범답안\n",
    "try:\n",
    "    hr = float(input('Enter Working hours: '))\n",
    "    rate = float(input('Enter Rate: '))\n",
    "except:\n",
    "    print('Error, please enter numeric input')\n",
    "    quit()\n",
    "    \n",
    "if hr > 40:\n",
    "    hr_exceed = hr - 40\n",
    "    pay = 40*rate + hr_exceed*1.5*rate\n",
    "else:\n",
    "    pay = hr*rate\n",
    "\n",
    "print(pay)"
   ]
  },
  {
   "cell_type": "code",
   "execution_count": null,
   "id": "fbd4da3c",
   "metadata": {},
   "outputs": [],
   "source": []
  }
 ],
 "metadata": {
  "kernelspec": {
   "display_name": "Python 3 (ipykernel)",
   "language": "python",
   "name": "python3"
  },
  "language_info": {
   "codemirror_mode": {
    "name": "ipython",
    "version": 3
   },
   "file_extension": ".py",
   "mimetype": "text/x-python",
   "name": "python",
   "nbconvert_exporter": "python",
   "pygments_lexer": "ipython3",
   "version": "3.9.7"
  },
  "toc": {
   "base_numbering": 1,
   "nav_menu": {},
   "number_sections": true,
   "sideBar": true,
   "skip_h1_title": false,
   "title_cell": "Table of Contents",
   "title_sidebar": "Contents",
   "toc_cell": false,
   "toc_position": {},
   "toc_section_display": true,
   "toc_window_display": false
  },
  "varInspector": {
   "cols": {
    "lenName": 16,
    "lenType": 16,
    "lenVar": 40
   },
   "kernels_config": {
    "python": {
     "delete_cmd_postfix": "",
     "delete_cmd_prefix": "del ",
     "library": "var_list.py",
     "varRefreshCmd": "print(var_dic_list())"
    },
    "r": {
     "delete_cmd_postfix": ") ",
     "delete_cmd_prefix": "rm(",
     "library": "var_list.r",
     "varRefreshCmd": "cat(var_dic_list()) "
    }
   },
   "types_to_exclude": [
    "module",
    "function",
    "builtin_function_or_method",
    "instance",
    "_Feature"
   ],
   "window_display": false
  }
 },
 "nbformat": 4,
 "nbformat_minor": 5
}
