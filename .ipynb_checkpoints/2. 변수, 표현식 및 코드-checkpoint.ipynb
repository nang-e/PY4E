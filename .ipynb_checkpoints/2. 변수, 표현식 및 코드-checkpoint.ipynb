{
 "cells": [
  {
   "cell_type": "code",
   "execution_count": 7,
   "id": "573ac5f1",
   "metadata": {
    "ExecuteTime": {
     "end_time": "2022-02-03T12:28:49.269152Z",
     "start_time": "2022-02-03T12:28:48.751460Z"
    }
   },
   "outputs": [
    {
     "name": "stdout",
     "output_type": "stream",
     "text": [
      "Europe floor? : 0\n",
      "US floor : 1\n"
     ]
    }
   ],
   "source": [
    "# 유럽에서의 층수를 미국 층수로 변환하는 입출력코드\n",
    "i = input('Europe floor? : ')\n",
    "us = int(i) + 1\n",
    "print('US floor :', us)"
   ]
  },
  {
   "cell_type": "markdown",
   "id": "4bbe40e4",
   "metadata": {},
   "source": [
    "## Exercise"
   ]
  },
  {
   "cell_type": "code",
   "execution_count": 8,
   "id": "614013f6",
   "metadata": {
    "ExecuteTime": {
     "end_time": "2022-02-03T12:33:10.303873Z",
     "start_time": "2022-02-03T12:33:06.373464Z"
    }
   },
   "outputs": [
    {
     "name": "stdout",
     "output_type": "stream",
     "text": [
      "Enter ur name: ny\n",
      "Hello ny\n"
     ]
    }
   ],
   "source": [
    "name = input('Enter ur name: ')\n",
    "print('Hello',name)"
   ]
  },
  {
   "cell_type": "code",
   "execution_count": null,
   "id": "1c95b184",
   "metadata": {},
   "outputs": [],
   "source": []
  }
 ],
 "metadata": {
  "kernelspec": {
   "display_name": "Python 3 (ipykernel)",
   "language": "python",
   "name": "python3"
  },
  "language_info": {
   "codemirror_mode": {
    "name": "ipython",
    "version": 3
   },
   "file_extension": ".py",
   "mimetype": "text/x-python",
   "name": "python",
   "nbconvert_exporter": "python",
   "pygments_lexer": "ipython3",
   "version": "3.9.7"
  },
  "toc": {
   "base_numbering": 1,
   "nav_menu": {},
   "number_sections": true,
   "sideBar": true,
   "skip_h1_title": false,
   "title_cell": "Table of Contents",
   "title_sidebar": "Contents",
   "toc_cell": false,
   "toc_position": {},
   "toc_section_display": true,
   "toc_window_display": false
  },
  "varInspector": {
   "cols": {
    "lenName": 16,
    "lenType": 16,
    "lenVar": 40
   },
   "kernels_config": {
    "python": {
     "delete_cmd_postfix": "",
     "delete_cmd_prefix": "del ",
     "library": "var_list.py",
     "varRefreshCmd": "print(var_dic_list())"
    },
    "r": {
     "delete_cmd_postfix": ") ",
     "delete_cmd_prefix": "rm(",
     "library": "var_list.r",
     "varRefreshCmd": "cat(var_dic_list()) "
    }
   },
   "types_to_exclude": [
    "module",
    "function",
    "builtin_function_or_method",
    "instance",
    "_Feature"
   ],
   "window_display": false
  }
 },
 "nbformat": 4,
 "nbformat_minor": 5
}
